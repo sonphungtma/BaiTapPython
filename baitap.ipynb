{
 "cells": [
  {
   "cell_type": "code",
   "execution_count": 4,
   "metadata": {},
   "outputs": [
    {
     "name": "stdout",
     "output_type": "stream",
     "text": [
      "Hello world\n",
      "Nhập N:N=34\n"
     ]
    }
   ],
   "source": [
    "print(\"Hello world\")\n",
    "print(\"Nhập N\",end=':')\n",
    "n=int(input())\n",
    "print(\"N={0}\".format(n))"
   ]
  },
  {
   "cell_type": "code",
   "execution_count": 3,
   "metadata": {},
   "outputs": [
    {
     "name": "stdout",
     "output_type": "stream",
     "text": [
      "Nhập N:n là số lẻ\n"
     ]
    }
   ],
   "source": [
    "print(\"Nhập N\",end=':')\n",
    "n=int(input())\n",
    "if n%2 == 0:\n",
    "    print(\"n là số chẵn\")\n",
    "else:\n",
    "    print(\"n là số lẻ\")"
   ]
  },
  {
   "cell_type": "code",
   "execution_count": 4,
   "metadata": {},
   "outputs": [
    {
     "name": "stdout",
     "output_type": "stream",
     "text": [
      "5 * 1 = 5\n",
      "5 * 2 = 10\n",
      "5 * 3 = 15\n",
      "5 * 4 = 20\n",
      "5 * 5 = 25\n",
      "5 * 6 = 30\n",
      "5 * 7 = 35\n",
      "5 * 8 = 40\n",
      "5 * 9 = 45\n",
      "5 * 10 = 50\n"
     ]
    }
   ],
   "source": [
    "n=0\n",
    "while(True):\n",
    "    n=int(input(\"Nhap N [2,10]:\"))\n",
    "    if(n>=2 and n<=10):\n",
    "        break\n",
    "    else:\n",
    "        print(\"Nhap sai. Nhap lai\")\n",
    "i=1\n",
    "while(i<=10):\n",
    "    print(\"{0} * {1} = {2}\".format(n, i, n*i))\n",
    "    i=i+1\n",
    "\n",
    "for i in range(1,11):\n",
    "    print(\"{0} * {1} = {2}\".format(n, i, n*i))\n",
    "\n",
    "\n"
   ]
  }
 ],
 "metadata": {
  "kernelspec": {
   "display_name": "Python 3",
   "language": "python",
   "name": "python3"
  },
  "language_info": {
   "codemirror_mode": {
    "name": "ipython",
    "version": 3
   },
   "file_extension": ".py",
   "mimetype": "text/x-python",
   "name": "python",
   "nbconvert_exporter": "python",
   "pygments_lexer": "ipython3",
   "version": "3.12.1"
  }
 },
 "nbformat": 4,
 "nbformat_minor": 2
}
